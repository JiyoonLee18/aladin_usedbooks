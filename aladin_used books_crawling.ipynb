{
 "cells": [
  {
   "cell_type": "markdown",
   "id": "95bf97cb",
   "metadata": {},
   "source": [
    "# 알라딘 크롤링\n",
    "- 로그인 -> 주문 상세정보 -> 책 제목, 책 url\n",
    "- 책 url -> 중고 모두보기 url\n",
    "- 중고 모두보기 url 에서 파는곳, 책 상태, 가격"
   ]
  },
  {
   "cell_type": "code",
   "execution_count": null,
   "id": "c77807be",
   "metadata": {},
   "outputs": [],
   "source": [
    "from selenium import webdriver\n",
    "from bs4 import BeautifulSoup\n",
    "import pandas as pd\n",
    "from selenium.webdriver.common.keys import Keys\n",
    "from selenium.webdriver.common.by import By\n",
    "import time\n",
    "import pyperclip\n",
    "from tqdm import tqdm\n",
    "import numpy as np"
   ]
  },
  {
   "cell_type": "markdown",
   "id": "6fffd9fe",
   "metadata": {},
   "source": [
    "## 주문 상세정보\n",
    "- 주문 번호, url 수가 20개정도로 많지 않고 간단하기 때문에 listly를 활용함"
   ]
  },
  {
   "cell_type": "markdown",
   "id": "09a262fa",
   "metadata": {},
   "source": [
    "## 주문상세url -> 책이름, 책페이지 추출"
   ]
  },
  {
   "cell_type": "code",
   "execution_count": null,
   "id": "139b63d3",
   "metadata": {},
   "outputs": [],
   "source": [
    "order_df=pd.read_excel('알라딘 주문이력.xlsx')"
   ]
  },
  {
   "cell_type": "code",
   "execution_count": null,
   "id": "b0cc5777",
   "metadata": {},
   "outputs": [],
   "source": [
    "url_list=list(order_df['주문상세url'])"
   ]
  },
  {
   "cell_type": "code",
   "execution_count": null,
   "id": "cc6aa9f1",
   "metadata": {},
   "outputs": [],
   "source": [
    "# 셀레니움 시작\n",
    "driver=webdriver.Chrome()\n",
    "url='https://www.aladin.co.kr/login/wlogin.aspx' #로그인 페이지 시작\n",
    "driver.get(url)\n",
    "\n",
    "# id, pw값 정보 입력\n",
    "id_value=input(\"id를 입력하세요: \")\n",
    "pw_value=input(\"pw를 입력하세요: \")\n",
    "\n",
    "# id, pw값 전달, 입력\n",
    "id_box = driver.find_element(By.ID, value=\"Email\")\n",
    "id_box.click()\n",
    "pyperclip.copy(id_value)\n",
    "id_box.send_keys(Keys.CONTROL, 'v')\n",
    "time.sleep(0.5)\n",
    "pw_box = driver.find_element(By.ID, value=\"Password\")\n",
    "pw_box.click()\n",
    "pyperclip.copy(pw_value)\n",
    "pw_box.send_keys(Keys.CONTROL, 'v')\n",
    "time.sleep(0.5)\n",
    "driver.find_element(By.XPATH,'//*[@id=\"LoginForm\"]/div[2]/a/div').click()\n",
    "time.sleep(0.5)\n",
    "\n",
    "# url 이동\n",
    "book_df=pd.DataFrame()\n",
    "for a in tqdm(url_list):\n",
    "    url=a\n",
    "    driver.get(url)\n",
    "    html = driver.page_source\n",
    "    soup = BeautifulSoup(html, 'html.parser')\n",
    "    books=soup.select('#tblOrdersItem>tr')\n",
    "    book_list=[]\n",
    "    for i in range(len(books)):\n",
    "        book_name=books[i].select('.td_item>div>a')[0].text.strip()\n",
    "        book_url=books[i].select('.td_item>div>a')[0]['href']\n",
    "        book_list.append([book_name, book_url])\n",
    "    tmp=pd.DataFrame(book_list)\n",
    "    book_df=pd.concat([book_df, tmp])\n",
    "    time.sleep(1)\n",
    "book_df.columns=['book_name', 'book_url']\n",
    "book_df=book_df[book_df['book_name']!='봉투']\n",
    "book_df.reset_index(inplace=True, drop=True)"
   ]
  },
  {
   "cell_type": "markdown",
   "id": "394584f0",
   "metadata": {},
   "source": [
    "## 책페이지 -> 책 재고 페이지"
   ]
  },
  {
   "cell_type": "code",
   "execution_count": null,
   "id": "eea545c4",
   "metadata": {},
   "outputs": [],
   "source": [
    "book_df['book_storage_url']=np.nan\n",
    "for i in tqdm(range(len(book_df))):\n",
    "    url=book_df.iloc[i,1]\n",
    "    driver.get(url)\n",
    "    html = driver.page_source\n",
    "    soup = BeautifulSoup(html, 'html.parser')\n",
    "    book_df.iloc[i,2]='https://www.aladin.co.kr'+soup.select('div.Ere_textR>ul>li>a')[0]['href']\n",
    "    time.sleep(1)"
   ]
  },
  {
   "cell_type": "code",
   "execution_count": null,
   "id": "7ceb0d77",
   "metadata": {},
   "outputs": [],
   "source": [
    "# book_df.to_csv('book_df.csv', index=False)\n",
    "# book_df=pd.read_csv('book_df.csv')"
   ]
  },
  {
   "cell_type": "markdown",
   "id": "f1891511",
   "metadata": {},
   "source": [
    "## 책 재고 페이지 -> 지점, 가격, 상태 등 정보 추출"
   ]
  },
  {
   "cell_type": "code",
   "execution_count": null,
   "id": "3a142f0d",
   "metadata": {},
   "outputs": [],
   "source": [
    "book_storage_url_list=list(book_df['book_storage_url'].unique())\n",
    "book_storage_df=pd.DataFrame()\n",
    "for a in tqdm(range(len(book_storage_url_list))):\n",
    "    for b in range(1,3):\n",
    "        url=book_storage_url_list[a]+'&page='+str(b)\n",
    "        driver.get(url)\n",
    "        html = driver.page_source\n",
    "        soup = BeautifulSoup(html, 'html.parser')\n",
    "        book_list=[]\n",
    "        try:\n",
    "            for i in range(len(soup.select('span.Ere_str.Ere_fs16'))):\n",
    "                book_name=soup.select('span.Ere_str.Ere_fs16')[i].text\n",
    "                book_quality=soup.select('span.Ere_sub_top')[i].text\n",
    "                book_price=soup.select('li.Ere_sub_pink>span')[i].text\n",
    "                book_deliverfee=soup.select('div.price>ul')[i].select('li')[-1].text.split(' ')[-1]\n",
    "                if len(soup.select('div.seller>ul')[i])==3:\n",
    "                    store_name=soup.select('div.seller>ul')[i].select('li')[0].text.strip()\n",
    "                    store_type=soup.select('div.seller>ul')[i].select('li')[1].text.strip()\n",
    "                elif len(soup.select('div.seller>ul')[i])==2:\n",
    "                    store_name=soup.select('div.seller>ul')[i].select('li')[1].text.strip()\n",
    "                    store_type=soup.select('div.seller>ul')[i].select('li')[0].text.strip()\n",
    "                book_list.append([book_name, book_quality, book_price, book_deliverfee, store_name, store_type])\n",
    "            tmp=pd.DataFrame(book_list)\n",
    "            book_storage_df=pd.concat([book_storage_df, tmp])\n",
    "        except:\n",
    "            pass\n",
    "book_storage_df.columns=['book_name', 'book_quality','book_price','book_deliverfee','store_name','store_type']\n",
    "book_storage_df.reset_index(inplace=True, drop=True)\n",
    "\n",
    "book_storage_df['book_price']=book_storage_df['book_price'].apply(lambda x:str(x).split('원')[0])\n",
    "a_df=book_storage_df[~book_storage_df['book_price'].str.contains(',')]\n",
    "b_df=book_storage_df[book_storage_df['book_price'].str.contains(',')]\n",
    "b_df['book_price']=b_df['book_price'].apply(lambda x:str(x).split(',')[0])+b_df['book_price'].apply(lambda x:str(x).split(',')[1])\n",
    "b_df['book_price']=b_df['book_price'].astype(int)\n",
    "a_df['book_price']=a_df['book_price'].astype(int)\n",
    "book_storage_df=pd.concat([a_df,b_df])\n",
    "book_storage_df.reset_index(inplace=True, drop=True)\n",
    "\n"
   ]
  },
  {
   "cell_type": "code",
   "execution_count": null,
   "id": "c3c27b93",
   "metadata": {},
   "outputs": [],
   "source": [
    "# book_storage_df.to_csv('book_sales_df.csv', index=False)\n",
    "# book_storage_df=pd.read_csv('book_sales_df.csv')"
   ]
  },
  {
   "cell_type": "markdown",
   "id": "7308514d",
   "metadata": {},
   "source": [
    "# 활용"
   ]
  },
  {
   "cell_type": "code",
   "execution_count": null,
   "id": "31904718",
   "metadata": {},
   "outputs": [],
   "source": [
    "# 5000원 이하\n",
    "tmp=book_storage_df[book_storage_df['book_price']<=5000]\n",
    "tmp=tmp.groupby('store_name').count()[['book_name']]\n",
    "tmp.reset_index(inplace=True)\n",
    "tmp.sort_values(by='book_name', ascending=False).head(20)"
   ]
  },
  {
   "cell_type": "code",
   "execution_count": null,
   "id": "44cd7a70",
   "metadata": {},
   "outputs": [],
   "source": [
    "book_storage_df[book_storage_df['store_name']=='중고매장신림점'].sort_values(by='book_price').head(30)"
   ]
  }
 ],
 "metadata": {
  "kernelspec": {
   "display_name": "Python 3 (ipykernel)",
   "language": "python",
   "name": "python3"
  },
  "language_info": {
   "codemirror_mode": {
    "name": "ipython",
    "version": 3
   },
   "file_extension": ".py",
   "mimetype": "text/x-python",
   "name": "python",
   "nbconvert_exporter": "python",
   "pygments_lexer": "ipython3",
   "version": "3.9.12"
  },
  "toc": {
   "base_numbering": 1,
   "nav_menu": {},
   "number_sections": true,
   "sideBar": true,
   "skip_h1_title": false,
   "title_cell": "Table of Contents",
   "title_sidebar": "Contents",
   "toc_cell": false,
   "toc_position": {},
   "toc_section_display": true,
   "toc_window_display": false
  }
 },
 "nbformat": 4,
 "nbformat_minor": 5
}
